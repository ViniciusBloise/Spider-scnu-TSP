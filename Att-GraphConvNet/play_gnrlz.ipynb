{
 "cells": [
  {
   "cell_type": "code",
   "execution_count": 1,
   "metadata": {},
   "outputs": [],
   "source": [
    "import os\n",
    "import re\n",
    "import pandas as pd\n",
    "import matplotlib.pyplot as plt\n",
    "\n",
    "import torch.nn.functional as F\n",
    "import torch.nn as nn\n",
    "import torch\n",
    "\n",
    "from scipy.spatial.distance import pdist\n",
    "from scipy.spatial.distance import squareform\n",
    "\n",
    "from sklearn.utils.class_weight import compute_class_weight\n",
    "\n",
    "from config import Settings, get_config, get_default_config\n",
    "from models.gcn_model import *\n",
    "\n",
    "from data.data_generator import tsp_instance_reader\n",
    "\n",
    "from utils.tsplib import read_tsplib_coor, read_tsplib_opt, write_tsplib_prob\n",
    "from utils.tsplib2 import ReaderTSP, PlotterTSP\n",
    "\n",
    "from utils.tsplib2_graph import GraphBuilder"
   ]
  },
  {
   "cell_type": "code",
   "execution_count": 2,
   "metadata": {},
   "outputs": [],
   "source": [
    "#path_tsplib = r'../../ML-Constructive/version1/data/test/TSPLIB/'\n",
    "path_tsplib = r'./data/TSPLib/instances'\n",
    "path_tsplib_opt = r'./data/TSPLib/optimal'\n",
    "files = [f for f in os.listdir(path=path_tsplib) if f.endswith('.tsp')]\n",
    "\n",
    "problem_set = []\n",
    "for item in files:\n",
    "    problem = {'name': item, 'size': int(re.findall('[0-9]+', item)[0])}\n",
    "    problem_set.append(problem)\n",
    "\n",
    "#order problem set by size, ranging from 100 to 1748\n",
    "problem_set.sort(key=lambda x: x['size'], reverse=False)\n",
    "\n",
    "df_ps = pd.DataFrame.from_dict(problem_set)"
   ]
  },
  {
   "attachments": {},
   "cell_type": "markdown",
   "metadata": {},
   "source": [
    "### 1. Read a TSP instance"
   ]
  },
  {
   "cell_type": "code",
   "execution_count": 4,
   "metadata": {},
   "outputs": [],
   "source": [
    "tsp_inst_name = 'rd100.tsp'\n",
    "full_tsp_inst = os.path.join(path_tsplib, tsp_inst_name)\n",
    "\n",
    "tspReader = ReaderTSP()\n",
    "n_points, coord_buff, distance_matrix, inst_name, optimal_tour = tspReader.read_instance(full_tsp_inst)\n"
   ]
  },
  {
   "attachments": {},
   "cell_type": "markdown",
   "metadata": {},
   "source": [
    "#### 1.1 Rescale instance"
   ]
  },
  {
   "cell_type": "code",
   "execution_count": 5,
   "metadata": {},
   "outputs": [],
   "source": [
    "x_y_min = np.min(coord_buff, axis=0)\n",
    "scale = 1.0 / np.max(np.max(coord_buff, axis=0)-x_y_min)\n",
    "node_coord = coord_buff - x_y_min\n",
    "node_coord *= scale\n",
    "distance_matrix *= scale"
   ]
  },
  {
   "cell_type": "code",
   "execution_count": 6,
   "metadata": {},
   "outputs": [],
   "source": [
    "plotter = PlotterTSP(None)\n",
    "G = GraphBuilder(pos=coord_buff, dist_matrix=distance_matrix)"
   ]
  },
  {
   "cell_type": "code",
   "execution_count": 7,
   "metadata": {},
   "outputs": [
    {
     "data": {
      "image/png": "[encoded data removed]",
      "text/plain": [
       "<Figure size 720x720 with 1 Axes>"
      ]
     },
     "metadata": {
      "needs_background": "light"
     },
     "output_type": "display_data"
    }
   ],
   "source": [
    "plt.figure(figsize=(10,10))\n",
    "plotter.plot_points(coord_buff)\n",
    "plt.show()"
   ]
  },
  {
   "attachments": {},
   "cell_type": "markdown",
   "metadata": {},
   "source": [
    "### 2. Graph Sampling"
   ]
  },
  {
   "cell_type": "code",
   "execution_count": 8,
   "metadata": {},
   "outputs": [],
   "source": [
    "def dist_mesh(dist:np.array, mesh:list):\n",
    "    size = mesh[0].shape[0]\n",
    "    output = np.zeros((size,size), dtype=np.float16)\n",
    "\n",
    "    for i in range(size**2):\n",
    "        #print(mesh[0][i // size, i % size], mesh[1][i // size, i % size])\n",
    "        output[i // size, i % size] = dist[mesh[0][i // size, i % size], mesh[1][i // size, i % size]]\n",
    "    return output"
   ]
  },
  {
   "cell_type": "code",
   "execution_count": 9,
   "metadata": {},
   "outputs": [
    {
     "name": "stdout",
     "output_type": "stream",
     "text": [
      "(3, 3)\n",
      "[[2 1 1 0]\n",
      " [1 2 0 1]\n",
      " [1 0 2 1]\n",
      " [0 1 1 2]]\n",
      "(3,)\n",
      "(3, 4)\n",
      "[[2. 1. 1.]\n",
      " [1. 2. 0.]\n",
      " [1. 0. 2.]]\n"
     ]
    }
   ],
   "source": [
    "mg = np.meshgrid([0,1,2],[0,1,2])\n",
    "print(mg[0].shape)\n",
    "size = 4\n",
    "a = np.ones(size, dtype=int) + np.eye(size, dtype=int) - np.eye(size, dtype=int)[:,::-1]\n",
    "print(a)\n",
    "print(mg[0][:,0].shape)\n",
    "print(a[mg[0][:,0]].shape)\n",
    "print(dist_mesh(a, mg))"
   ]
  },
  {
   "cell_type": "code",
   "execution_count": 10,
   "metadata": {},
   "outputs": [],
   "source": [
    "#Replace tsp_source for (coor, opt)\n",
    "def test_one_tsp(tsp_source, coor_buff, node_num=20, \n",
    "                    cluster_center = 0, top_k = 19, top_k_expand = 19):\n",
    "\n",
    "    coor, opt = tsp_source\n",
    "        #tsp_instance_reader(tspinstance=tsp_source, buff = coor_buff, num_node=node_num)\n",
    "    coors = [coor]\n",
    "    \n",
    "    distA = pdist(coors[0], metric='euclidean')\n",
    "    distB_raw = squareform(distA)\n",
    "    distB = squareform(distA) + 10.0 * np.eye(N = node_num, M =node_num, dtype = np.float64)\n",
    "    \n",
    "    pre_edges = np.ones(shape = (top_k + 1, top_k + 1), dtype = np.int32) + np.eye(N = top_k + 1, M = top_k + 1)\n",
    "    pre_node = np.ones(shape = (top_k + 1, ))\n",
    "    \n",
    "    pre_node_target = np.arange(0, top_k + 1)\n",
    "    pre_node_target = np.append(pre_node_target, 0)\n",
    "    pre_edge_target = np.zeros(shape = (top_k + 1, top_k + 1)) \n",
    "    pre_edge_target[pre_node_target[:-1], pre_node_target[1:]] = 1\n",
    "    pre_edge_target[pre_node_target[1:], pre_node_target[:-1]] = 1\n",
    "\n",
    "    neighbor = np.argpartition(distB, kth = top_k, axis=1)\n",
    "    \n",
    "    neighbor_expand = np.argpartition(distB, kth = top_k_expand, axis=1)\n",
    "    Omega_w = np.zeros(shape=(node_num, ), dtype = np.int32)\n",
    "    Omega = np.zeros(shape=(node_num, node_num), dtype = np.int32)\n",
    "    \n",
    "    edges, edges_values = [], []\n",
    "    nodes, nodes_coord = [], []\n",
    "    edges_target, nodes_target = [], []\n",
    "    meshs = []\n",
    "    num_clusters = 0\n",
    "    if node_num==20:\n",
    "        num_clusters_threshold = 1\n",
    "    else:\n",
    "        num_clusters_threshold = math.ceil((node_num / (top_k+1) ) * 5)\n",
    "    all_visited = False\n",
    "    \n",
    "    while num_clusters < num_clusters_threshold or all_visited == False:\n",
    "        if all_visited==False:\n",
    "            \n",
    "            cluster_center_neighbor = neighbor[cluster_center, :top_k]\n",
    "            cluster_center_neighbor = np.insert(cluster_center_neighbor,\n",
    "                                                0, cluster_center)\n",
    "        else:\n",
    "            np.random.shuffle(neighbor_expand[cluster_center, :top_k_expand])\n",
    "            cluster_center_neighbor = neighbor_expand[cluster_center, :top_k]\n",
    "            cluster_center_neighbor = np.insert(cluster_center_neighbor,\n",
    "                                                0, cluster_center)\n",
    "        \n",
    "        Omega_w[cluster_center_neighbor] += 1\n",
    "\n",
    "        # case 4\n",
    "        node_coord = coors[0][cluster_center_neighbor]\n",
    "        x_y_min = np.min(node_coord, axis=0)\n",
    "        scale = 1.0 / np.max(np.max(node_coord, axis=0)-x_y_min)\n",
    "        node_coord = node_coord - x_y_min\n",
    "        node_coord *= scale\n",
    "        nodes_coord.append(node_coord)\n",
    "\n",
    "        # case 1-2\n",
    "        edges.append(pre_edges)\n",
    "        mesh = np.meshgrid(cluster_center_neighbor, cluster_center_neighbor)\n",
    "        #print(len(mesh), mesh[0].shape)\n",
    "        \n",
    "        edges_value = distB_raw[mesh[0], mesh[1]] #dist_mesh(distB_raw, mesh) #distB_raw[mesh].copy()\n",
    "        edges_value *= scale\n",
    "        edges_values.append(edges_value)\n",
    "        meshs.append(mesh)\n",
    "        Omega[mesh] += 1\n",
    "        #print(distB_raw.shape, edges_value.shape)\n",
    "        # case 3\n",
    "        nodes.append(pre_node)\n",
    "\n",
    "        # case 5-6\n",
    "        edges_target.append(pre_edge_target)\n",
    "        nodes_target.append(pre_node_target[:-1])\n",
    "\n",
    "        num_clusters += 1\n",
    "        \n",
    "        if 0 not in Omega_w:\n",
    "            all_visited = True\n",
    "        \n",
    "        cluster_center = np.random.choice(np.where(Omega_w==np.min(Omega_w))[0])\n",
    "    \n",
    "    return edges, edges_values, nodes, nodes_coord, edges_target, nodes_target, meshs, Omega, opt"
   ]
  },
  {
   "cell_type": "code",
   "execution_count": 11,
   "metadata": {},
   "outputs": [],
   "source": [
    "def multiprocess_write(sub_prob, meshgrid, omega, node_num = 20,\n",
    "                       tsplib_name = './sample.txt', statistics = False, opt = None):\n",
    "    edges_probs = np.zeros(shape = (node_num, node_num), dtype = np.float32)\n",
    "    print(len(meshgrid), sub_prob.shape)\n",
    "    for i in range(len(meshgrid)):\n",
    "        #edges_probs[list(meshgrid[i])] += sub_prob[i, :, :, 1]\n",
    "        edges_probs[meshgrid[i][0], meshgrid[i][1]] += sub_prob[i, :, :, 1]\n",
    "        \n",
    "    edges_probs = edges_probs / (omega + 1e-8)#[:, None]\n",
    "    # normalize the probability in an instance \n",
    "    edges_probs = edges_probs + edges_probs.T\n",
    "    edges_probs_norm = edges_probs/np.reshape(np.sum(edges_probs, axis=1),\n",
    "                                              newshape=(node_num, 1))\n",
    "    \n",
    "    if statistics:\n",
    "        mean_rank = 0\n",
    "        for i in range(node_num-1):\n",
    "            mean_rank += len(np.where(edges_probs_norm[opt[i], :]>=edges_probs_norm[opt[i], opt[i+1]])[0]) \n",
    "        mean_rank /= (node_num-1)\n",
    "        \n",
    "        false_negative_edge = opt[np.where(edges_probs_norm[opt[:-1], opt[1:]]<1e-5)]\n",
    "        # false negative edges in an instance\n",
    "        num_fne = len(false_negative_edge)\n",
    "        \n",
    "        greater_zero_edges = len(np.where(edges_probs_norm>1e-6)[0])\n",
    "        greater_zero_edges /= node_num\n",
    "        \n",
    "        write_tsplib_prob(tsplib_name, edge_prob = edges_probs_norm,\n",
    "                  num_node=node_num, mean=mean_rank, fnn = num_fne, greater_zero=greater_zero_edges)\n",
    "    else:\n",
    "        write_tsplib_prob(tsplib_name, edge_prob = edges_probs_norm,\n",
    "                          num_node=node_num, mean=0, fnn = 0, greater_zero=0)\n",
    "    return mean_rank\n",
    "#net.eval()"
   ]
  },
  {
   "cell_type": "code",
   "execution_count": 12,
   "metadata": {},
   "outputs": [],
   "source": [
    "K = 19; K_expand = K\n",
    "\n",
    "tsp_source = (coord_buff, optimal_tour)\n",
    "edge, edges_value, node, node_coord, edge_target, node_target, mesh, omega, opt = \\\n",
    "    test_one_tsp(tsp_source=tsp_source, \\\n",
    "    coor_buff=coord_buff, node_num=n_points,  cluster_center=0, top_k=K, top_k_expand=K_expand)"
   ]
  },
  {
   "attachments": {},
   "cell_type": "markdown",
   "metadata": {},
   "source": [
    "### 2.1 Plotting one instance"
   ]
  },
  {
   "cell_type": "code",
   "execution_count": 13,
   "metadata": {},
   "outputs": [
    {
     "data": {
      "text/plain": [
       "<Figure size 1440x1440 with 0 Axes>"
      ]
     },
     "metadata": {},
     "output_type": "display_data"
    },
    {
     "data": {
      "image/png": "[encoded data removed]",
      "text/plain": [
       "<Figure size 1440x1440 with 9 Axes>"
      ]
     },
     "metadata": {
      "needs_background": "light"
     },
     "output_type": "display_data"
    }
   ],
   "source": [
    "plt.figure(figsize=(20,20))\n",
    "\n",
    "plt_dim = 3\n",
    "fig, axs = plt.subplots(plt_dim, plt_dim)\n",
    "fig.set_size_inches((20,20))\n",
    "\n",
    "pos = coord_buff\n",
    "for i in range( plt_dim ** 2):        \n",
    "    axs[i // plt_dim, i % plt_dim].scatter(pos[:, 0], pos[:, 1], 10, color='darkblue', marker='.')\n",
    "\n",
    "    samples = mesh[i][0][0]\n",
    "    axs[i // plt_dim, i % plt_dim].scatter(pos[samples, 0], pos[samples, 1], 10, color='red', marker='o')\n",
    "plt.show()"
   ]
  },
  {
   "attachments": {},
   "cell_type": "markdown",
   "metadata": {},
   "source": [
    "### 3. Loading trained Att-GCN based on TSP20-trainset"
   ]
  },
  {
   "cell_type": "code",
   "execution_count": 14,
   "metadata": {},
   "outputs": [],
   "source": [
    "# model-parameter\n",
    "config_path = \"configs/tsp20.json\"\n",
    "config = get_config(config_path)\n",
    "\n",
    "# setting random seed to 1\n",
    "if torch.cuda.is_available():\n",
    "    dtypeFloat = torch.cuda.FloatTensor\n",
    "    dtypeLong = torch.cuda.LongTensor\n",
    "    torch.cuda.manual_seed_all(1)\n",
    "else:\n",
    "    dtypeFloat = torch.FloatTensor\n",
    "    dtypeLong = torch.LongTensor\n",
    "    torch.manual_seed(1)"
   ]
  },
  {
   "cell_type": "code",
   "execution_count": 15,
   "metadata": {},
   "outputs": [],
   "source": [
    "# Instantiate the network\n",
    "net = nn.DataParallel(ResidualGatedGCNModel(config, dtypeFloat, dtypeLong))\n",
    "if torch.cuda.is_available():\n",
    "    net.cuda()  \n",
    "# Define optimizer\n",
    "learning_rate = config.learning_rate\n",
    "optimizer = torch.optim.Adam(net.parameters(), lr=learning_rate)\n",
    "# Load checkpoint\n",
    "log_dir = f\"./logs/{config.expt_name}/\"\n",
    "if torch.cuda.is_available():\n",
    "    # TSP-20\n",
    "    checkpoint = torch.load(\"logs/tsp20/best_val_checkpoint.tar\")\n",
    "else:\n",
    "    checkpoint = torch.load(\"logs/tsp20/best_val_checkpoint.tar\", map_location='cpu')\n",
    "# Load network state\n",
    "net.load_state_dict(checkpoint['model_state_dict'])\n",
    "# Load optimizer state\n",
    "optimizer.load_state_dict(checkpoint['optimizer_state_dict'])\n",
    "# Load other training parameters\n",
    "epoch = checkpoint['epoch']\n",
    "train_loss = checkpoint['train_loss']\n",
    "val_loss = checkpoint['val_loss']\n",
    "for param_group in optimizer.param_groups:\n",
    "    learning_rate = param_group['lr']"
   ]
  },
  {
   "attachments": {},
   "cell_type": "markdown",
   "metadata": {},
   "source": [
    "#### 2.1 Heatmap generator on TSP20"
   ]
  },
  {
   "cell_type": "code",
   "execution_count": 16,
   "metadata": {},
   "outputs": [],
   "source": [
    "threshold = len(edge)\n",
    "batch_size = 1\n",
    "\n",
    "config.expt_name = 'tsp{}'.format(inst_name)\n",
    "num_nodes = n_points\n"
   ]
  },
  {
   "cell_type": "code",
   "execution_count": 17,
   "metadata": {},
   "outputs": [],
   "source": [
    "# init\n",
    "count_buff = np.zeros(shape=(batch_size*threshold, ), dtype=np.int32)\n",
    "edges = np.zeros(shape=(batch_size*threshold, K+1, K+1), dtype=np.int32)\n",
    "edges_values = np.zeros(shape=(batch_size*threshold, K+1, K+1), dtype=np.float16)\n",
    "nodes = np.zeros(shape = (batch_size*threshold, K+1), dtype=np.int32)\n",
    "nodes_coord = np.zeros(shape = (batch_size*threshold, K+1, 2), dtype=np.float16)\n",
    "edges_target = np.zeros(shape = (batch_size*threshold, K+1, K+1), dtype=np.int32)\n",
    "nodes_target = np.zeros(shape = (batch_size*threshold, K+1), dtype=np.int32)\n",
    "meshs = np.zeros(shape = (batch_size*threshold, 2, K+1, K+1), dtype=np.int32)\n",
    "\n",
    "Omegas = np.zeros(shape = (batch_size, num_nodes, num_nodes), dtype=np.int32)\n",
    "opts = np.zeros(shape = (batch_size, num_nodes+1), dtype=np.int32)"
   ]
  },
  {
   "cell_type": "code",
   "execution_count": 18,
   "metadata": {},
   "outputs": [],
   "source": [
    "sum_time = 0\n",
    "\n",
    "for i in range(batch_size):\n",
    "        tsp_source = (coord_buff, optimal_tour)\n",
    "        edge, edges_value, node, node_coord, edge_target, node_target, mesh, omega, opt = \\\n",
    "                test_one_tsp(tsp_source=tsp_source, \\\n",
    "                        coor_buff=coord_buff, node_num=n_points,  cluster_center=0, top_k=K, top_k_expand=K_expand)\n",
    "        edges[i*threshold:(i+1)*threshold, ...] = edge\n",
    "        edges_values[i*threshold:(i+1)*threshold, ...] = edges_value\n",
    "        nodes[i*threshold:(i+1)*threshold, ...] = node\n",
    "        nodes_coord[i*threshold:(i+1)*threshold, ...] = node_coord\n",
    "        edges_target[i*threshold:(i+1)*threshold, ...] = edge_target\n",
    "        nodes_target[i*threshold:(i+1)*threshold, ...] = node_target\n",
    "        meshs[i*threshold:(i+1)*threshold, ...] = mesh\n",
    "\n"
   ]
  },
  {
   "cell_type": "code",
   "execution_count": 19,
   "metadata": {},
   "outputs": [
    {
     "name": "stderr",
     "output_type": "stream",
     "text": [
      "/Users/vbloise/miniconda3/envs/py39/lib/python3.9/site-packages/torch/nn/functional.py:1944: UserWarning: nn.functional.sigmoid is deprecated. Use torch.sigmoid instead.\n",
      "  warnings.warn(\"nn.functional.sigmoid is deprecated. Use torch.sigmoid instead.\")\n"
     ]
    }
   ],
   "source": [
    "with torch.no_grad():\n",
    "        # Convert batch to torch Variables\n",
    "        x_edges = Variable(torch.LongTensor(edges).type(dtypeLong), requires_grad=False)\n",
    "        x_edges_values = Variable(torch.FloatTensor(edges_values).type(dtypeFloat), requires_grad=False)\n",
    "        x_nodes = Variable(torch.LongTensor(nodes).type(dtypeLong), requires_grad=False)\n",
    "        x_nodes_coord = Variable(torch.FloatTensor(nodes_coord).type(dtypeFloat), requires_grad=False)\n",
    "        y_edges = Variable(torch.LongTensor(edges_target).type(dtypeLong), requires_grad=False)\n",
    "        y_nodes = Variable(torch.LongTensor(nodes_target).type(dtypeLong), requires_grad=False)\n",
    "\n",
    "        # Compute class weights\n",
    "        edge_labels = y_edges.cpu().numpy().flatten()\n",
    "        edge_cw = compute_class_weight(\"balanced\", classes=np.unique(edge_labels), y=edge_labels)\n",
    "\n",
    "        # Forward pass\n",
    "        y_preds, loss = net.forward(x_edges, x_edges_values, x_nodes, x_nodes_coord, y_edges, edge_cw)\n",
    "        y_preds_prob = F.softmax(y_preds, dim=3)\n",
    "        y_preds_prob_numpy = y_preds_prob.cpu().numpy()"
   ]
  },
  {
   "cell_type": "code",
   "execution_count": 20,
   "metadata": {},
   "outputs": [
    {
     "name": "stdout",
     "output_type": "stream",
     "text": [
      "25 (25, 20, 20, 2)\n"
     ]
    }
   ],
   "source": [
    "avg_mean_rank = []\n",
    "for i in range(batch_size):\n",
    "    heatmap_path = f'./results/heatmap/tsp_tsplib/heatmaptsp_{inst_name}_{i}.txt'\n",
    "    rank = multiprocess_write(y_preds_prob_numpy[i*threshold:(i+1)*threshold, ...],\n",
    "                                                        meshs[i*threshold:(i+1)*threshold, ...], Omegas[i, ...],\n",
    "                                                        num_nodes, heatmap_path, True, opts[i, ...])\n",
    "    avg_mean_rank.append(rank)"
   ]
  },
  {
   "cell_type": "code",
   "execution_count": 42,
   "metadata": {},
   "outputs": [],
   "source": [
    "def load_prob_matrix(filename:str):\n",
    "    with open(filename, 'r') as f:\n",
    "        lines = f.readlines()\n",
    "\n",
    "    i = 0\n",
    "    dim = 0\n",
    "    while True:\n",
    "        line = lines[i]\n",
    "        i += 1\n",
    "        if(line.startswith('DIMENSION:')):\n",
    "            dim = int(line.split(':')[1])\n",
    "            break\n",
    "\n",
    "    prob_mtx = np.zeros((dim, dim), dtype=np.float16)\n",
    "\n",
    "    start = i\n",
    "    i = 0\n",
    "    for line in lines[start:]:\n",
    "        line = line.strip()\n",
    "        l_arr = np.array([float(j) for j in line.split(' ')], dtype=np.float16)\n",
    "        prob_mtx[i,:] = l_arr \n",
    "        i += 1\n",
    "    return prob_mtx\n",
    "\n"
   ]
  },
  {
   "cell_type": "code",
   "execution_count": 41,
   "metadata": {},
   "outputs": [
    {
     "name": "stdout",
     "output_type": "stream",
     "text": [
      "(100, 100)\n"
     ]
    }
   ],
   "source": [
    "prob_mtx = load_prob_matrix(f'./results/heatmap/tsp_tsplib/heatmaptsp_{inst_name}_{i}.txt')"
   ]
  },
  {
   "attachments": {},
   "cell_type": "markdown",
   "metadata": {},
   "source": [
    "#### Find the top K Candidate List based on probability"
   ]
  },
  {
   "cell_type": "code",
   "execution_count": 51,
   "metadata": {},
   "outputs": [],
   "source": [
    "topK_CL = (-prob_mtx).argsort(axis=1)[:,:K+1]\n",
    "\n",
    "max_prob = prob_mtx.max()\n",
    "topK_CL_values = prob_mtx[ np.array([[i] * (K+1) for i in range(num_nodes)]).flatten(), topK_CL.flatten()].reshape(num_nodes, K + 1)\n"
   ]
  },
  {
   "cell_type": "code",
   "execution_count": 75,
   "metadata": {},
   "outputs": [
    {
     "data": {
      "text/plain": [
       "2000"
      ]
     },
     "execution_count": 75,
     "metadata": {},
     "output_type": "execute_result"
    }
   ],
   "source": [
    "len(topK_CL.flatten())\n",
    "len(np.array([[i] * num_nodes for i in range(K+1)]).flatten())"
   ]
  },
  {
   "cell_type": "code",
   "execution_count": 82,
   "metadata": {},
   "outputs": [
    {
     "data": {
      "text/plain": [
       "array([ 0,  0,  0, ..., 99, 99, 99])"
      ]
     },
     "execution_count": 82,
     "metadata": {},
     "output_type": "execute_result"
    }
   ],
   "source": [
    "topK_CL.flatten()[0:40]\n",
    "np.array([[i] * (K+1) for i in range(num_nodes)]).flatten()"
   ]
  },
  {
   "cell_type": "code",
   "execution_count": 84,
   "metadata": {},
   "outputs": [],
   "source": [
    "topK_CL_values = prob_mtx[ np.array([[i] * (K+1) for i in range(num_nodes)]).flatten(), topK_CL.flatten()].reshape(num_nodes, K + 1)"
   ]
  },
  {
   "cell_type": "code",
   "execution_count": 12,
   "metadata": {},
   "outputs": [
    {
     "data": {
      "text/plain": [
       "<utils.tsplib2_graph.GraphBuilder at 0x18fbf5460>"
      ]
     },
     "execution_count": 12,
     "metadata": {},
     "output_type": "execute_result"
    }
   ],
   "source": [
    "#df_ps\n",
    "G"
   ]
  },
  {
   "attachments": {},
   "cell_type": "markdown",
   "metadata": {},
   "source": [
    "### 2. Graph Sampling"
   ]
  },
  {
   "cell_type": "code",
   "execution_count": 40,
   "metadata": {},
   "outputs": [],
   "source": [
    "num_nodes = 20\n",
    "line = \"0.029157934210713665 0.1559301825892634 0.03435471062405426 0.7682971106073093 0.3697166746406534 0.5018496299184007 0.5773199862704034 0.17172052933909687 0.6784428933051259 0.6975873582228431 0.4431051403147942 0.7493119574690765 0.49048884441003426 0.045469091760450664 0.2133731527472742 0.252152704752452 0.5318604857631822 0.5209111757162382 0.7537092753509504 0.3978239530415303 0.47850191065669456 0.17205353946229118 0.3924481462412055 0.7350983993831633 0.6946311107051806 0.15934358561054696 0.3872115247972211 0.7711203871028484 0.5645252549207432 0.5377147033696458 0.026977874388971146 0.7541423744086744 0.07421254499896157 0.6490227171133383 0.4358126035976637 0.5393203190426608 0.35101053789891434 0.07192098491162946 0.7752470640361943 0.10874604545820277 output 1 8 19 7 11 4 13 20 10 5 15 9 18 3 6 12 14 2 16 17 1\"\n",
    "tsp_source = line\n",
    "buff_coor = np.zeros(shape=(num_nodes, 2), dtype = np.float64)\n",
    "\n",
    "coor, opt = tsp_instance_reader(tspinstance=tsp_source,\n",
    "                       buff = buff_coor, num_node=num_nodes)"
   ]
  },
  {
   "cell_type": "code",
   "execution_count": 42,
   "metadata": {},
   "outputs": [
    {
     "name": "stdout",
     "output_type": "stream",
     "text": [
      "(20, 2)\n"
     ]
    }
   ],
   "source": [
    "print(coor.shape)"
   ]
  }
 ],
 "metadata": {
  "kernelspec": {
   "display_name": "py39",
   "language": "python",
   "name": "python3"
  },
  "language_info": {
   "codemirror_mode": {
    "name": "ipython",
    "version": 3
   },
   "file_extension": ".py",
   "mimetype": "text/x-python",
   "name": "python",
   "nbconvert_exporter": "python",
   "pygments_lexer": "ipython3",
   "version": "3.9.12"
  },
  "orig_nbformat": 4,
  "vscode": {
   "interpreter": {
    "hash": "ccc48cba39b1f4459234e21666e4737e80c10c62074b954fdcbe9cae915e458d"
   }
  }
 },
 "nbformat": 4,
 "nbformat_minor": 2
}
