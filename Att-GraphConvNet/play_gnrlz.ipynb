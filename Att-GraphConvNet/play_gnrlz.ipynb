{
 "cells": [
  {
   "cell_type": "code",
   "execution_count": 1,
   "metadata": {},
   "outputs": [],
   "source": [
    "import os\n",
    "import re\n",
    "import pandas as pd\n",
    "import matplotlib.pyplot as plt\n",
    "\n",
    "import torch.nn.functional as F\n",
    "import torch.nn as nn\n",
    "import torch\n",
    "\n",
    "from scipy.spatial.distance import pdist\n",
    "from scipy.spatial.distance import squareform\n",
    "\n",
    "from config import Settings, get_config, get_default_config\n",
    "from models.gcn_model import *\n",
    "\n",
    "from data.data_generator import tsp_instance_reader\n",
    "\n",
    "from utils.tsplib import read_tsplib_coor, read_tsplib_opt, write_tsplib_prob\n",
    "from utils.tsplib2 import ReaderTSP, PlotterTSP\n",
    "\n",
    "from utils.tsplib2_graph import GraphBuilder"
   ]
  },
  {
   "cell_type": "code",
   "execution_count": 2,
   "metadata": {},
   "outputs": [],
   "source": [
    "#path_tsplib = r'../../ML-Constructive/version1/data/test/TSPLIB/'\n",
    "path_tsplib = r'./data/TSPLib/instances'\n",
    "path_tsplib_opt = r'./data/TSPLib/optimal'\n",
    "files = [f for f in os.listdir(path=path_tsplib) if f.endswith('.tsp')]\n",
    "\n",
    "problem_set = []\n",
    "for item in files:\n",
    "    problem = {'name': item, 'size': int(re.findall('[0-9]+', item)[0])}\n",
    "    problem_set.append(problem)\n",
    "\n",
    "#order problem set by size, ranging from 100 to 1748\n",
    "problem_set.sort(key=lambda x: x['size'], reverse=False)\n",
    "\n",
    "df_ps = pd.DataFrame.from_dict(problem_set)"
   ]
  },
  {
   "attachments": {},
   "cell_type": "markdown",
   "metadata": {},
   "source": [
    "### 1. Read a TSP instance"
   ]
  },
  {
   "cell_type": "code",
   "execution_count": 41,
   "metadata": {},
   "outputs": [],
   "source": [
    "tsp_inst_name = 'rd100.tsp'\n",
    "full_tsp_inst = os.path.join(path_tsplib, tsp_inst_name)\n",
    "\n",
    "tspReader = ReaderTSP()\n",
    "n_points, coord_buff, distance_matrix, inst_name, optimal_tour = tspReader.read_instance(full_tsp_inst)\n"
   ]
  },
  {
   "attachments": {},
   "cell_type": "markdown",
   "metadata": {},
   "source": [
    "#### 1.1 Rescale instance"
   ]
  },
  {
   "cell_type": "code",
   "execution_count": 27,
   "metadata": {},
   "outputs": [],
   "source": [
    "x_y_min = np.min(coord_buff, axis=0)\n",
    "scale = 1.0 / np.max(np.max(coord_buff, axis=0)-x_y_min)\n",
    "node_coord = coord_buff - x_y_min\n",
    "node_coord *= scale\n",
    "distance_matrix *= scale"
   ]
  },
  {
   "cell_type": "code",
   "execution_count": 28,
   "metadata": {},
   "outputs": [],
   "source": [
    "\n",
    "plotter = PlotterTSP(None)\n",
    "G = GraphBuilder(pos=coord_buff, dist_matrix=distance_matrix)"
   ]
  },
  {
   "cell_type": "code",
   "execution_count": 29,
   "metadata": {},
   "outputs": [
    {
     "data": {
      "image/png": "[encoded data removed]",
      "text/plain": [
       "<Figure size 720x720 with 1 Axes>"
      ]
     },
     "metadata": {
      "needs_background": "light"
     },
     "output_type": "display_data"
    }
   ],
   "source": [
    "plt.figure(figsize=(10,10))\n",
    "plotter.plot_points(coord_buff)\n",
    "plt.show()"
   ]
  },
  {
   "attachments": {},
   "cell_type": "markdown",
   "metadata": {},
   "source": [
    "### 2. Graph Sampling"
   ]
  },
  {
   "cell_type": "code",
   "execution_count": 81,
   "metadata": {},
   "outputs": [],
   "source": [
    "def convertmesh_to_listOfTuples(mesh:list):\n",
    "    flat_list = []\n",
    "    listOfTuples = []\n",
    "    for l in mesh:    \n",
    "        for i, sublist in enumerate(l):\n",
    "            for j, item in enumerate(sublist):\n",
    "                flat_list.append(l[i, j])\n",
    "        listOfTuples.append(flat_list)\n",
    "    return listOfTuples"
   ]
  },
  {
   "cell_type": "code",
   "execution_count": null,
   "metadata": {},
   "outputs": [],
   "source": [
    "a = np.array([[0,1,3][2,4,5][3,5,6]])"
   ]
  },
  {
   "cell_type": "code",
   "execution_count": 78,
   "metadata": {},
   "outputs": [],
   "source": [
    "#Replace tsp_source for (coor, opt)\n",
    "def test_one_tsp(tsp_source, coor_buff, node_num=20, \n",
    "                    cluster_center = 0, top_k = 19, top_k_expand = 19):\n",
    "\n",
    "    coor, opt = tsp_source\n",
    "        #tsp_instance_reader(tspinstance=tsp_source, buff = coor_buff, num_node=node_num)\n",
    "    coors = [coor]\n",
    "    \n",
    "    distA = pdist(coors[0], metric='euclidean')\n",
    "    distB_raw = squareform(distA)\n",
    "    distB = squareform(distA) + 10.0 * np.eye(N = node_num, M =node_num, dtype = np.float64)\n",
    "    \n",
    "    pre_edges = np.ones(shape = (top_k + 1, top_k + 1), dtype = np.int32) + np.eye(N = top_k + 1, M = top_k + 1)\n",
    "    pre_node = np.ones(shape = (top_k + 1, ))\n",
    "    \n",
    "    pre_node_target = np.arange(0, top_k + 1)\n",
    "    pre_node_target = np.append(pre_node_target, 0)\n",
    "    pre_edge_target = np.zeros(shape = (top_k + 1, top_k + 1)) \n",
    "    pre_edge_target[pre_node_target[:-1], pre_node_target[1:]] = 1\n",
    "    pre_edge_target[pre_node_target[1:], pre_node_target[:-1]] = 1\n",
    "\n",
    "    neighbor = np.argpartition(distB, kth = top_k, axis=1)\n",
    "    \n",
    "    neighbor_expand = np.argpartition(distB, kth = top_k_expand, axis=1)\n",
    "    Omega_w = np.zeros(shape=(node_num, ), dtype = np.int32)\n",
    "    Omega = np.zeros(shape=(node_num, node_num), dtype = np.int32)\n",
    "    \n",
    "    edges, edges_values = [], []\n",
    "    nodes, nodes_coord = [], []\n",
    "    edges_target, nodes_target = [], []\n",
    "    meshs = []\n",
    "    num_clusters = 0\n",
    "    if node_num==20:\n",
    "        num_clusters_threshold = 1\n",
    "    else:\n",
    "        num_clusters_threshold = math.ceil((node_num / (top_k+1) ) * 5)\n",
    "    all_visited = False\n",
    "    \n",
    "    while num_clusters < num_clusters_threshold or all_visited == False:\n",
    "        if all_visited==False:\n",
    "            \n",
    "            cluster_center_neighbor = neighbor[cluster_center, :top_k]\n",
    "            cluster_center_neighbor = np.insert(cluster_center_neighbor,\n",
    "                                                0, cluster_center)\n",
    "        else:\n",
    "            np.random.shuffle(neighbor_expand[cluster_center, :top_k_expand])\n",
    "            cluster_center_neighbor = neighbor_expand[cluster_center, :top_k]\n",
    "            cluster_center_neighbor = np.insert(cluster_center_neighbor,\n",
    "                                                0, cluster_center)\n",
    "        \n",
    "        Omega_w[cluster_center_neighbor] += 1\n",
    "\n",
    "        # case 4\n",
    "        node_coord = coors[0][cluster_center_neighbor]\n",
    "        x_y_min = np.min(node_coord, axis=0)\n",
    "        scale = 1.0 / np.max(np.max(node_coord, axis=0)-x_y_min)\n",
    "        node_coord = node_coord - x_y_min\n",
    "        node_coord *= scale\n",
    "        nodes_coord.append(node_coord)\n",
    "\n",
    "        # case 1-2\n",
    "        edges.append(pre_edges)\n",
    "        mesh = np.meshgrid(cluster_center_neighbor, cluster_center_neighbor)\n",
    "        print(len(mesh), mesh[0].shape)\n",
    "        \n",
    "        edges_value = distB_raw[mesh].copy()\n",
    "        edges_value *= scale\n",
    "        edges_values.append(edges_value)\n",
    "        meshs.append(mesh)\n",
    "        Omega[mesh] += 1\n",
    "        print(distB_raw.shape, edges_value.shape)\n",
    "        # case 3\n",
    "        nodes.append(pre_node)\n",
    "\n",
    "        # case 5-6\n",
    "        edges_target.append(pre_edge_target)\n",
    "        nodes_target.append(pre_node_target[:-1])\n",
    "\n",
    "        num_clusters += 1\n",
    "        \n",
    "        if 0 not in Omega_w:\n",
    "            all_visited = True\n",
    "        \n",
    "        cluster_center = np.random.choice(np.where(Omega_w==np.min(Omega_w))[0])\n",
    "    \n",
    "    return edges, edges_values, nodes, nodes_coord, edges_target, nodes_target, meshs, Omega, opt"
   ]
  },
  {
   "cell_type": "code",
   "execution_count": 79,
   "metadata": {},
   "outputs": [
    {
     "name": "stdout",
     "output_type": "stream",
     "text": [
      "2 (20, 20)\n"
     ]
    },
    {
     "name": "stderr",
     "output_type": "stream",
     "text": [
      "Traceback (most recent call last):\n",
      "  File \"_pydevd_bundle/pydevd_cython.pyx\", line 1081, in _pydevd_bundle.pydevd_cython.PyDBFrame.trace_dispatch\n",
      "  File \"_pydevd_bundle/pydevd_cython.pyx\", line 297, in _pydevd_bundle.pydevd_cython.PyDBFrame.do_wait_suspend\n",
      "  File \"/Users/vbloise/miniconda3/envs/py39/lib/python3.9/site-packages/debugpy/_vendored/pydevd/pydevd.py\", line 2023, in do_wait_suspend\n",
      "    keep_suspended = self._do_wait_suspend(thread, frame, event, arg, suspend_type, from_this_thread, frames_tracker)\n",
      "  File \"/Users/vbloise/miniconda3/envs/py39/lib/python3.9/site-packages/debugpy/_vendored/pydevd/pydevd.py\", line 2059, in _do_wait_suspend\n",
      "    time.sleep(0.01)\n",
      "KeyboardInterrupt\n"
     ]
    },
    {
     "ename": "KeyboardInterrupt",
     "evalue": "",
     "output_type": "error",
     "traceback": [
      "\u001b[0;31m---------------------------------------------------------------------------\u001b[0m",
      "\u001b[0;31mKeyboardInterrupt\u001b[0m                         Traceback (most recent call last)",
      "\u001b[1;32m/Users/vbloise/Desktop/MasterInAI/MT-Umberto/Project/TSP/Att-GraphConvNet/play_gnrlz.ipynb Cell 12\u001b[0m in \u001b[0;36m<cell line: 5>\u001b[0;34m()\u001b[0m\n\u001b[1;32m      <a href='vscode-notebook-cell:/Users/vbloise/Desktop/MasterInAI/MT-Umberto/Project/TSP/Att-GraphConvNet/play_gnrlz.ipynb#X11sZmlsZQ%3D%3D?line=0'>1</a>\u001b[0m K \u001b[39m=\u001b[39m \u001b[39m19\u001b[39m; K_expand \u001b[39m=\u001b[39m K\n\u001b[1;32m      <a href='vscode-notebook-cell:/Users/vbloise/Desktop/MasterInAI/MT-Umberto/Project/TSP/Att-GraphConvNet/play_gnrlz.ipynb#X11sZmlsZQ%3D%3D?line=2'>3</a>\u001b[0m tsp_source \u001b[39m=\u001b[39m (coord_buff, optimal_tour)\n\u001b[1;32m      <a href='vscode-notebook-cell:/Users/vbloise/Desktop/MasterInAI/MT-Umberto/Project/TSP/Att-GraphConvNet/play_gnrlz.ipynb#X11sZmlsZQ%3D%3D?line=3'>4</a>\u001b[0m edge, edges_value, node, node_coord, edge_target, node_target, mesh, omega, opt \u001b[39m=\u001b[39m \\\n\u001b[0;32m----> <a href='vscode-notebook-cell:/Users/vbloise/Desktop/MasterInAI/MT-Umberto/Project/TSP/Att-GraphConvNet/play_gnrlz.ipynb#X11sZmlsZQ%3D%3D?line=4'>5</a>\u001b[0m     test_one_tsp(tsp_source\u001b[39m=\u001b[39;49mtsp_source, \\\n\u001b[1;32m      <a href='vscode-notebook-cell:/Users/vbloise/Desktop/MasterInAI/MT-Umberto/Project/TSP/Att-GraphConvNet/play_gnrlz.ipynb#X11sZmlsZQ%3D%3D?line=5'>6</a>\u001b[0m     coor_buff\u001b[39m=\u001b[39;49mcoord_buff, node_num\u001b[39m=\u001b[39;49mn_points,  cluster_center\u001b[39m=\u001b[39;49m\u001b[39m0\u001b[39;49m, top_k\u001b[39m=\u001b[39;49mK, top_k_expand\u001b[39m=\u001b[39;49mK_expand)\n",
      "\u001b[1;32m/Users/vbloise/Desktop/MasterInAI/MT-Umberto/Project/TSP/Att-GraphConvNet/play_gnrlz.ipynb Cell 12\u001b[0m in \u001b[0;36mtest_one_tsp\u001b[0;34m(tsp_source, coor_buff, node_num, cluster_center, top_k, top_k_expand)\u001b[0m\n\u001b[1;32m     <a href='vscode-notebook-cell:/Users/vbloise/Desktop/MasterInAI/MT-Umberto/Project/TSP/Att-GraphConvNet/play_gnrlz.ipynb#X11sZmlsZQ%3D%3D?line=63'>64</a>\u001b[0m \u001b[39mprint\u001b[39m(\u001b[39mlen\u001b[39m(mesh), mesh[\u001b[39m0\u001b[39m]\u001b[39m.\u001b[39mshape)\n\u001b[1;32m     <a href='vscode-notebook-cell:/Users/vbloise/Desktop/MasterInAI/MT-Umberto/Project/TSP/Att-GraphConvNet/play_gnrlz.ipynb#X11sZmlsZQ%3D%3D?line=65'>66</a>\u001b[0m edges_value \u001b[39m=\u001b[39m distB_raw[mesh]\u001b[39m.\u001b[39mcopy()\n\u001b[0;32m---> <a href='vscode-notebook-cell:/Users/vbloise/Desktop/MasterInAI/MT-Umberto/Project/TSP/Att-GraphConvNet/play_gnrlz.ipynb#X11sZmlsZQ%3D%3D?line=66'>67</a>\u001b[0m edges_value \u001b[39m*\u001b[39m\u001b[39m=\u001b[39m scale\n\u001b[1;32m     <a href='vscode-notebook-cell:/Users/vbloise/Desktop/MasterInAI/MT-Umberto/Project/TSP/Att-GraphConvNet/play_gnrlz.ipynb#X11sZmlsZQ%3D%3D?line=67'>68</a>\u001b[0m edges_values\u001b[39m.\u001b[39mappend(edges_value)\n\u001b[1;32m     <a href='vscode-notebook-cell:/Users/vbloise/Desktop/MasterInAI/MT-Umberto/Project/TSP/Att-GraphConvNet/play_gnrlz.ipynb#X11sZmlsZQ%3D%3D?line=68'>69</a>\u001b[0m meshs\u001b[39m.\u001b[39mappend(mesh)\n",
      "\u001b[1;32m/Users/vbloise/Desktop/MasterInAI/MT-Umberto/Project/TSP/Att-GraphConvNet/play_gnrlz.ipynb Cell 12\u001b[0m in \u001b[0;36mtest_one_tsp\u001b[0;34m(tsp_source, coor_buff, node_num, cluster_center, top_k, top_k_expand)\u001b[0m\n\u001b[1;32m     <a href='vscode-notebook-cell:/Users/vbloise/Desktop/MasterInAI/MT-Umberto/Project/TSP/Att-GraphConvNet/play_gnrlz.ipynb#X11sZmlsZQ%3D%3D?line=63'>64</a>\u001b[0m \u001b[39mprint\u001b[39m(\u001b[39mlen\u001b[39m(mesh), mesh[\u001b[39m0\u001b[39m]\u001b[39m.\u001b[39mshape)\n\u001b[1;32m     <a href='vscode-notebook-cell:/Users/vbloise/Desktop/MasterInAI/MT-Umberto/Project/TSP/Att-GraphConvNet/play_gnrlz.ipynb#X11sZmlsZQ%3D%3D?line=65'>66</a>\u001b[0m edges_value \u001b[39m=\u001b[39m distB_raw[mesh]\u001b[39m.\u001b[39mcopy()\n\u001b[0;32m---> <a href='vscode-notebook-cell:/Users/vbloise/Desktop/MasterInAI/MT-Umberto/Project/TSP/Att-GraphConvNet/play_gnrlz.ipynb#X11sZmlsZQ%3D%3D?line=66'>67</a>\u001b[0m edges_value \u001b[39m*\u001b[39m\u001b[39m=\u001b[39m scale\n\u001b[1;32m     <a href='vscode-notebook-cell:/Users/vbloise/Desktop/MasterInAI/MT-Umberto/Project/TSP/Att-GraphConvNet/play_gnrlz.ipynb#X11sZmlsZQ%3D%3D?line=67'>68</a>\u001b[0m edges_values\u001b[39m.\u001b[39mappend(edges_value)\n\u001b[1;32m     <a href='vscode-notebook-cell:/Users/vbloise/Desktop/MasterInAI/MT-Umberto/Project/TSP/Att-GraphConvNet/play_gnrlz.ipynb#X11sZmlsZQ%3D%3D?line=68'>69</a>\u001b[0m meshs\u001b[39m.\u001b[39mappend(mesh)\n",
      "File \u001b[0;32m_pydevd_bundle/pydevd_cython.pyx:1366\u001b[0m, in \u001b[0;36m_pydevd_bundle.pydevd_cython.SafeCallWrapper.__call__\u001b[0;34m()\u001b[0m\n",
      "File \u001b[0;32m_pydevd_bundle/pydevd_cython.pyx:662\u001b[0m, in \u001b[0;36m_pydevd_bundle.pydevd_cython.PyDBFrame.trace_dispatch\u001b[0;34m()\u001b[0m\n",
      "File \u001b[0;32m_pydevd_bundle/pydevd_cython.pyx:1090\u001b[0m, in \u001b[0;36m_pydevd_bundle.pydevd_cython.PyDBFrame.trace_dispatch\u001b[0;34m()\u001b[0m\n",
      "File \u001b[0;32m_pydevd_bundle/pydevd_cython.pyx:1081\u001b[0m, in \u001b[0;36m_pydevd_bundle.pydevd_cython.PyDBFrame.trace_dispatch\u001b[0;34m()\u001b[0m\n",
      "File \u001b[0;32m_pydevd_bundle/pydevd_cython.pyx:297\u001b[0m, in \u001b[0;36m_pydevd_bundle.pydevd_cython.PyDBFrame.do_wait_suspend\u001b[0;34m()\u001b[0m\n",
      "File \u001b[0;32m~/miniconda3/envs/py39/lib/python3.9/site-packages/debugpy/_vendored/pydevd/pydevd.py:2023\u001b[0m, in \u001b[0;36mPyDB.do_wait_suspend\u001b[0;34m(self, thread, frame, event, arg, exception_type)\u001b[0m\n\u001b[1;32m   2020\u001b[0m             from_this_thread\u001b[39m.\u001b[39mappend(frame_custom_thread_id)\n\u001b[1;32m   2022\u001b[0m     \u001b[39mwith\u001b[39;00m \u001b[39mself\u001b[39m\u001b[39m.\u001b[39m_threads_suspended_single_notification\u001b[39m.\u001b[39mnotify_thread_suspended(thread_id, stop_reason):\n\u001b[0;32m-> 2023\u001b[0m         keep_suspended \u001b[39m=\u001b[39m \u001b[39mself\u001b[39;49m\u001b[39m.\u001b[39;49m_do_wait_suspend(thread, frame, event, arg, suspend_type, from_this_thread, frames_tracker)\n\u001b[1;32m   2025\u001b[0m frames_list \u001b[39m=\u001b[39m \u001b[39mNone\u001b[39;00m\n\u001b[1;32m   2027\u001b[0m \u001b[39mif\u001b[39;00m keep_suspended:\n\u001b[1;32m   2028\u001b[0m     \u001b[39m# This means that we should pause again after a set next statement.\u001b[39;00m\n",
      "File \u001b[0;32m~/miniconda3/envs/py39/lib/python3.9/site-packages/debugpy/_vendored/pydevd/pydevd.py:2059\u001b[0m, in \u001b[0;36mPyDB._do_wait_suspend\u001b[0;34m(self, thread, frame, event, arg, suspend_type, from_this_thread, frames_tracker)\u001b[0m\n\u001b[1;32m   2056\u001b[0m         \u001b[39mself\u001b[39m\u001b[39m.\u001b[39m_call_input_hook()\n\u001b[1;32m   2058\u001b[0m     \u001b[39mself\u001b[39m\u001b[39m.\u001b[39mprocess_internal_commands()\n\u001b[0;32m-> 2059\u001b[0m     time\u001b[39m.\u001b[39;49msleep(\u001b[39m0.01\u001b[39;49m)\n\u001b[1;32m   2061\u001b[0m \u001b[39mself\u001b[39m\u001b[39m.\u001b[39mcancel_async_evaluation(get_current_thread_id(thread), \u001b[39mstr\u001b[39m(\u001b[39mid\u001b[39m(frame)))\n\u001b[1;32m   2063\u001b[0m \u001b[39m# process any stepping instructions\u001b[39;00m\n",
      "\u001b[0;31mKeyboardInterrupt\u001b[0m: "
     ]
    }
   ],
   "source": [
    "K = 19; K_expand = K\n",
    "\n",
    "tsp_source = (coord_buff, optimal_tour)\n",
    "edge, edges_value, node, node_coord, edge_target, node_target, mesh, omega, opt = \\\n",
    "    test_one_tsp(tsp_source=tsp_source, \\\n",
    "    coor_buff=coord_buff, node_num=n_points,  cluster_center=0, top_k=K, top_k_expand=K_expand)"
   ]
  },
  {
   "attachments": {},
   "cell_type": "markdown",
   "metadata": {},
   "source": [
    "### 2.1 Plotting one instance"
   ]
  },
  {
   "cell_type": "code",
   "execution_count": 34,
   "metadata": {},
   "outputs": [
    {
     "data": {
      "text/plain": [
       "<Figure size 1440x1440 with 0 Axes>"
      ]
     },
     "metadata": {},
     "output_type": "display_data"
    },
    {
     "data": {
      "image/png": "[encoded data removed]",
      "text/plain": [
       "<Figure size 1440x1440 with 9 Axes>"
      ]
     },
     "metadata": {
      "needs_background": "light"
     },
     "output_type": "display_data"
    }
   ],
   "source": [
    "plt.figure(figsize=(20,20))\n",
    "\n",
    "plt_dim = 3\n",
    "fig, axs = plt.subplots(plt_dim, plt_dim)\n",
    "fig.set_size_inches((20,20))\n",
    "\n",
    "pos = coord_buff\n",
    "for i in range( plt_dim ** 2):        \n",
    "    axs[i // plt_dim, i % plt_dim].scatter(pos[:, 0], pos[:, 1], 10, color='darkblue', marker='.')\n",
    "\n",
    "    samples = mesh[i][0][0]\n",
    "    axs[i // plt_dim, i % plt_dim].scatter(pos[samples, 0], pos[samples, 1], 10, color='red', marker='o')\n",
    "plt.show()"
   ]
  },
  {
   "attachments": {},
   "cell_type": "markdown",
   "metadata": {},
   "source": [
    "### 3. Loading trained Att-GCN based on TSP20-trainset"
   ]
  },
  {
   "cell_type": "code",
   "execution_count": 37,
   "metadata": {},
   "outputs": [],
   "source": [
    "# model-parameter\n",
    "config_path = \"configs/tsp20.json\"\n",
    "config = get_config(config_path)\n",
    "\n",
    "# setting random seed to 1\n",
    "if torch.cuda.is_available():\n",
    "    dtypeFloat = torch.cuda.FloatTensor\n",
    "    dtypeLong = torch.cuda.LongTensor\n",
    "    torch.cuda.manual_seed_all(1)\n",
    "else:\n",
    "    dtypeFloat = torch.FloatTensor\n",
    "    dtypeLong = torch.LongTensor\n",
    "    torch.manual_seed(1)"
   ]
  },
  {
   "cell_type": "code",
   "execution_count": 39,
   "metadata": {},
   "outputs": [],
   "source": [
    "# Instantiate the network\n",
    "net = nn.DataParallel(ResidualGatedGCNModel(config, dtypeFloat, dtypeLong))\n",
    "if torch.cuda.is_available():\n",
    "    net.cuda()  \n",
    "# Define optimizer\n",
    "learning_rate = config.learning_rate\n",
    "optimizer = torch.optim.Adam(net.parameters(), lr=learning_rate)\n",
    "# Load checkpoint\n",
    "log_dir = f\"./logs/{config.expt_name}/\"\n",
    "if torch.cuda.is_available():\n",
    "    # TSP-20\n",
    "    checkpoint = torch.load(\"logs/tsp20/best_val_checkpoint.tar\")\n",
    "else:\n",
    "    checkpoint = torch.load(\"logs/tsp20/best_val_checkpoint.tar\", map_location='cpu')\n",
    "# Load network state\n",
    "net.load_state_dict(checkpoint['model_state_dict'])\n",
    "# Load optimizer state\n",
    "optimizer.load_state_dict(checkpoint['optimizer_state_dict'])\n",
    "# Load other training parameters\n",
    "epoch = checkpoint['epoch']\n",
    "train_loss = checkpoint['train_loss']\n",
    "val_loss = checkpoint['val_loss']\n",
    "for param_group in optimizer.param_groups:\n",
    "    learning_rate = param_group['lr']"
   ]
  },
  {
   "attachments": {},
   "cell_type": "markdown",
   "metadata": {},
   "source": [
    "#### 2.1 Heatmap generator on TSP20"
   ]
  },
  {
   "cell_type": "code",
   "execution_count": 44,
   "metadata": {},
   "outputs": [],
   "source": [
    "threshold = len(edge)\n",
    "batch_size = 1\n",
    "\n",
    "config.expt_name = 'tsp{}'.format(inst_name)\n",
    "num_nodes = n_points\n",
    "\n"
   ]
  },
  {
   "cell_type": "code",
   "execution_count": 55,
   "metadata": {},
   "outputs": [],
   "source": [
    "# init\n",
    "count_buff = np.zeros(shape=(batch_size*threshold, ), dtype=np.int32)\n",
    "edges = np.zeros(shape=(batch_size*threshold, K+1, K+1), dtype=np.int32)\n",
    "edges_values = np.zeros(shape=(batch_size*threshold, K+1, K+1), dtype=np.float16)\n",
    "nodes = np.zeros(shape = (batch_size*threshold, K+1), dtype=np.int32)\n",
    "nodes_coord = np.zeros(shape = (batch_size*threshold, K+1, 2), dtype=np.float16)\n",
    "edges_target = np.zeros(shape = (batch_size*threshold, K+1, K+1), dtype=np.int32)\n",
    "nodes_target = np.zeros(shape = (batch_size*threshold, K+1), dtype=np.int32)\n",
    "meshs = np.zeros(shape = (batch_size*threshold, 2, K+1, K+1), dtype=np.int32)\n",
    "\n",
    "Omegas = np.zeros(shape = (batch_size, num_nodes, num_nodes), dtype=np.int32)\n",
    "opts = np.zeros(shape = (batch_size, num_nodes+1), dtype=np.int32)"
   ]
  },
  {
   "cell_type": "code",
   "execution_count": 72,
   "metadata": {},
   "outputs": [
    {
     "name": "stdout",
     "output_type": "stream",
     "text": [
      "25 (2, 20, 20, 100)\n",
      "(25, 20, 20)\n",
      "25 (20, 20)\n",
      "(25, 20, 20)\n"
     ]
    }
   ],
   "source": [
    "print(len(edges_value), edges_value[0].shape)\n",
    "print(edges_values.shape)\n",
    "print(len(edge), edge[0].shape)\n",
    "print(edges.shape)\n",
    "#edges_values[0:25]"
   ]
  },
  {
   "cell_type": "code",
   "execution_count": 60,
   "metadata": {},
   "outputs": [
    {
     "ename": "ValueError",
     "evalue": "setting an array element with a sequence. The requested array would exceed the maximum number of dimension of 3.",
     "output_type": "error",
     "traceback": [
      "\u001b[0;31m---------------------------------------------------------------------------\u001b[0m",
      "\u001b[0;31mValueError\u001b[0m                                Traceback (most recent call last)",
      "\u001b[1;32m/Users/vbloise/Desktop/MasterInAI/MT-Umberto/Project/TSP/Att-GraphConvNet/play_gnrlz.ipynb Cell 21\u001b[0m in \u001b[0;36m<cell line: 3>\u001b[0;34m()\u001b[0m\n\u001b[1;32m      <a href='vscode-notebook-cell:/Users/vbloise/Desktop/MasterInAI/MT-Umberto/Project/TSP/Att-GraphConvNet/play_gnrlz.ipynb#X51sZmlsZQ%3D%3D?line=4'>5</a>\u001b[0m edge, edges_value, node, node_coord, edge_target, node_target, mesh, omega, opt \u001b[39m=\u001b[39m \\\n\u001b[1;32m      <a href='vscode-notebook-cell:/Users/vbloise/Desktop/MasterInAI/MT-Umberto/Project/TSP/Att-GraphConvNet/play_gnrlz.ipynb#X51sZmlsZQ%3D%3D?line=5'>6</a>\u001b[0m         test_one_tsp(tsp_source\u001b[39m=\u001b[39mtsp_source, \\\n\u001b[1;32m      <a href='vscode-notebook-cell:/Users/vbloise/Desktop/MasterInAI/MT-Umberto/Project/TSP/Att-GraphConvNet/play_gnrlz.ipynb#X51sZmlsZQ%3D%3D?line=6'>7</a>\u001b[0m                 coor_buff\u001b[39m=\u001b[39mcoord_buff, node_num\u001b[39m=\u001b[39mn_points,  cluster_center\u001b[39m=\u001b[39m\u001b[39m0\u001b[39m, top_k\u001b[39m=\u001b[39mK, top_k_expand\u001b[39m=\u001b[39mK_expand)\n\u001b[1;32m      <a href='vscode-notebook-cell:/Users/vbloise/Desktop/MasterInAI/MT-Umberto/Project/TSP/Att-GraphConvNet/play_gnrlz.ipynb#X51sZmlsZQ%3D%3D?line=7'>8</a>\u001b[0m edges[i\u001b[39m*\u001b[39mthreshold:(i\u001b[39m+\u001b[39m\u001b[39m1\u001b[39m)\u001b[39m*\u001b[39mthreshold, \u001b[39m.\u001b[39m\u001b[39m.\u001b[39m\u001b[39m.\u001b[39m] \u001b[39m=\u001b[39m edge\n\u001b[0;32m----> <a href='vscode-notebook-cell:/Users/vbloise/Desktop/MasterInAI/MT-Umberto/Project/TSP/Att-GraphConvNet/play_gnrlz.ipynb#X51sZmlsZQ%3D%3D?line=8'>9</a>\u001b[0m edges_values[i\u001b[39m*\u001b[39mthreshold:(i\u001b[39m+\u001b[39m\u001b[39m1\u001b[39m)\u001b[39m*\u001b[39mthreshold, \u001b[39m.\u001b[39m\u001b[39m.\u001b[39m\u001b[39m.\u001b[39m] \u001b[39m=\u001b[39m edges_value\n\u001b[1;32m     <a href='vscode-notebook-cell:/Users/vbloise/Desktop/MasterInAI/MT-Umberto/Project/TSP/Att-GraphConvNet/play_gnrlz.ipynb#X51sZmlsZQ%3D%3D?line=9'>10</a>\u001b[0m nodes[i\u001b[39m*\u001b[39mthreshold:(i\u001b[39m+\u001b[39m\u001b[39m1\u001b[39m)\u001b[39m*\u001b[39mthreshold, \u001b[39m.\u001b[39m\u001b[39m.\u001b[39m\u001b[39m.\u001b[39m] \u001b[39m=\u001b[39m node\n\u001b[1;32m     <a href='vscode-notebook-cell:/Users/vbloise/Desktop/MasterInAI/MT-Umberto/Project/TSP/Att-GraphConvNet/play_gnrlz.ipynb#X51sZmlsZQ%3D%3D?line=10'>11</a>\u001b[0m nodes_coord[i\u001b[39m*\u001b[39mthreshold:(i\u001b[39m+\u001b[39m\u001b[39m1\u001b[39m)\u001b[39m*\u001b[39mthreshold, \u001b[39m.\u001b[39m\u001b[39m.\u001b[39m\u001b[39m.\u001b[39m] \u001b[39m=\u001b[39m node_coord\n",
      "\u001b[0;31mValueError\u001b[0m: setting an array element with a sequence. The requested array would exceed the maximum number of dimension of 3."
     ]
    }
   ],
   "source": [
    "sum_time = 0\n",
    "\n",
    "for i in range(batch_size):\n",
    "        tsp_source = (coord_buff, optimal_tour)\n",
    "        edge, edges_value, node, node_coord, edge_target, node_target, mesh, omega, opt = \\\n",
    "                test_one_tsp(tsp_source=tsp_source, \\\n",
    "                        coor_buff=coord_buff, node_num=n_points,  cluster_center=0, top_k=K, top_k_expand=K_expand)\n",
    "        edges[i*threshold:(i+1)*threshold, ...] = edge\n",
    "        edges_values[i*threshold:(i+1)*threshold, ...] = edges_value\n",
    "        nodes[i*threshold:(i+1)*threshold, ...] = node\n",
    "        nodes_coord[i*threshold:(i+1)*threshold, ...] = node_coord\n",
    "        edges_target[i*threshold:(i+1)*threshold, ...] = edge_target\n",
    "        nodes_target[i*threshold:(i+1)*threshold, ...] = node_target\n",
    "        meshs[i*threshold:(i+1)*threshold, ...] = mesh"
   ]
  },
  {
   "cell_type": "code",
   "execution_count": 109,
   "metadata": {},
   "outputs": [
    {
     "name": "stdout",
     "output_type": "stream",
     "text": [
      "[[ 0 14 62 61 86 59 17 70  7 85 68 96 66 67 50 89 82 12 20 48]\n",
      " [ 0 14 62 61 86 59 17 70  7 85 68 96 66 67 50 89 82 12 20 48]\n",
      " [ 0 14 62 61 86 59 17 70  7 85 68 96 66 67 50 89 82 12 20 48]\n",
      " [ 0 14 62 61 86 59 17 70  7 85 68 96 66 67 50 89 82 12 20 48]\n",
      " [ 0 14 62 61 86 59 17 70  7 85 68 96 66 67 50 89 82 12 20 48]\n",
      " [ 0 14 62 61 86 59 17 70  7 85 68 96 66 67 50 89 82 12 20 48]\n",
      " [ 0 14 62 61 86 59 17 70  7 85 68 96 66 67 50 89 82 12 20 48]\n",
      " [ 0 14 62 61 86 59 17 70  7 85 68 96 66 67 50 89 82 12 20 48]\n",
      " [ 0 14 62 61 86 59 17 70  7 85 68 96 66 67 50 89 82 12 20 48]\n",
      " [ 0 14 62 61 86 59 17 70  7 85 68 96 66 67 50 89 82 12 20 48]\n",
      " [ 0 14 62 61 86 59 17 70  7 85 68 96 66 67 50 89 82 12 20 48]\n",
      " [ 0 14 62 61 86 59 17 70  7 85 68 96 66 67 50 89 82 12 20 48]\n",
      " [ 0 14 62 61 86 59 17 70  7 85 68 96 66 67 50 89 82 12 20 48]\n",
      " [ 0 14 62 61 86 59 17 70  7 85 68 96 66 67 50 89 82 12 20 48]\n",
      " [ 0 14 62 61 86 59 17 70  7 85 68 96 66 67 50 89 82 12 20 48]\n",
      " [ 0 14 62 61 86 59 17 70  7 85 68 96 66 67 50 89 82 12 20 48]\n",
      " [ 0 14 62 61 86 59 17 70  7 85 68 96 66 67 50 89 82 12 20 48]\n",
      " [ 0 14 62 61 86 59 17 70  7 85 68 96 66 67 50 89 82 12 20 48]\n",
      " [ 0 14 62 61 86 59 17 70  7 85 68 96 66 67 50 89 82 12 20 48]\n",
      " [ 0 14 62 61 86 59 17 70  7 85 68 96 66 67 50 89 82 12 20 48]]\n"
     ]
    }
   ],
   "source": [
    "#print(len(edge), len(edges_value), len(nodes) )\n",
    "print(meshs[0][0])\n",
    "#print(omega.size)\n",
    "#print(len(meshs[0]), meshs[0][0])\n"
   ]
  },
  {
   "cell_type": "code",
   "execution_count": 88,
   "metadata": {},
   "outputs": [
    {
     "data": {
      "text/plain": [
       "array([[0.        , 1.15654562, 0.42951071, ..., 0.78144317, 0.55423403,\n",
       "        0.83609544],\n",
       "       [1.15654562, 0.        , 0.82310997, ..., 0.42302768, 0.65569914,\n",
       "        0.42256899],\n",
       "       [0.42951071, 0.82310997, 0.        , ..., 0.40523921, 0.16745104,\n",
       "        0.63390721],\n",
       "       ...,\n",
       "       [0.78144317, 0.42302768, 0.40523921, ..., 0.        , 0.24031928,\n",
       "        0.39368436],\n",
       "       [0.55423403, 0.65569914, 0.16745104, ..., 0.24031928, 0.        ,\n",
       "        0.49453428],\n",
       "       [0.83609544, 0.42256899, 0.63390721, ..., 0.39368436, 0.49453428,\n",
       "        0.        ]])"
      ]
     },
     "execution_count": 88,
     "metadata": {},
     "output_type": "execute_result"
    }
   ],
   "source": [
    "np.meshgrid\n",
    "#squareform(pdist(node_coord, 'euclidean'))\n",
    "#np.eye(2,2)"
   ]
  },
  {
   "cell_type": "code",
   "execution_count": 12,
   "metadata": {},
   "outputs": [
    {
     "data": {
      "text/plain": [
       "<utils.tsplib2_graph.GraphBuilder at 0x18fbf5460>"
      ]
     },
     "execution_count": 12,
     "metadata": {},
     "output_type": "execute_result"
    }
   ],
   "source": [
    "#df_ps\n",
    "G"
   ]
  },
  {
   "attachments": {},
   "cell_type": "markdown",
   "metadata": {},
   "source": [
    "### 1. Loading trained Att-GCN based on TSP20-trainset"
   ]
  },
  {
   "cell_type": "code",
   "execution_count": 30,
   "metadata": {},
   "outputs": [],
   "source": [
    "# model-parameter\n",
    "config_path = \"configs/tsp20.json\"\n",
    "config = get_config(config_path)\n",
    "\n",
    "# setting random seed to 1\n",
    "if torch.cuda.is_available():\n",
    "    dtypeFloat = torch.cuda.FloatTensor\n",
    "    dtypeLong = torch.cuda.LongTensor\n",
    "    torch.cuda.manual_seed_all(1)\n",
    "else:\n",
    "    dtypeFloat = torch.FloatTensor\n",
    "    dtypeLong = torch.LongTensor\n",
    "    torch.manual_seed(1)"
   ]
  },
  {
   "cell_type": "code",
   "execution_count": 31,
   "metadata": {},
   "outputs": [],
   "source": [
    "# Instantiate the network\n",
    "net = nn.DataParallel(ResidualGatedGCNModel(config, dtypeFloat, dtypeLong))\n",
    "if torch.cuda.is_available():\n",
    "    net.cuda()  \n",
    "# Define optimizer\n",
    "learning_rate = config.learning_rate\n",
    "optimizer = torch.optim.Adam(net.parameters(), lr=learning_rate)\n",
    "# Load checkpoint\n",
    "log_dir = f\"./logs/{config.expt_name}/\"\n",
    "if torch.cuda.is_available():\n",
    "    # TSP-20\n",
    "    checkpoint = torch.load(\"logs/tsp20/best_val_checkpoint.tar\")\n",
    "else:\n",
    "    checkpoint = torch.load(\"logs/tsp20/best_val_checkpoint.tar\", map_location='cpu')\n",
    "# Load network state\n",
    "net.load_state_dict(checkpoint['model_state_dict'])\n",
    "# Load optimizer state\n",
    "optimizer.load_state_dict(checkpoint['optimizer_state_dict'])\n",
    "# Load other training parameters\n",
    "epoch = checkpoint['epoch']\n",
    "train_loss = checkpoint['train_loss']\n",
    "val_loss = checkpoint['val_loss']\n",
    "for param_group in optimizer.param_groups:\n",
    "    learning_rate = param_group['lr']"
   ]
  },
  {
   "attachments": {},
   "cell_type": "markdown",
   "metadata": {},
   "source": [
    "### 2. Graph Sampling"
   ]
  },
  {
   "cell_type": "code",
   "execution_count": null,
   "metadata": {},
   "outputs": [],
   "source": [
    "def multiprocess_write(sub_prob, meshgrid, omega, node_num = 20,\n",
    "                       tsplib_name = './sample.txt', statiscs = False, opt = None):\n",
    "    edges_probs = np.zeros(shape = (node_num, node_num), dtype = np.float32)\n",
    "    for i in range(len(meshgrid)):\n",
    "        edges_probs[list(meshgrid[i])] += sub_prob[i, :, :, 1]\n",
    "    edges_probs = edges_probs / (omega + 1e-8)#[:, None]\n",
    "    # normalize the probability in an instance \n",
    "    edges_probs = edges_probs + edges_probs.T\n",
    "    edges_probs_norm = edges_probs/np.reshape(np.sum(edges_probs, axis=1),\n",
    "                                              newshape=(node_num, 1))\n",
    "    \n",
    "    if statiscs:\n",
    "        mean_rank = 0\n",
    "        for i in range(node_num-1):\n",
    "            mean_rank += len(np.where(edges_probs_norm[opt[i], :]>=edges_probs_norm[opt[i], opt[i+1]])[0]) \n",
    "        mean_rank /= (node_num-1)\n",
    "        \n",
    "        false_negative_edge = opt[np.where(edges_probs_norm[opt[:-1], opt[1:]]<1e-5)]\n",
    "        # false negative edges in an instance\n",
    "        num_fne = len(false_negative_edge)\n",
    "        \n",
    "        greater_zero_edges = len(np.where(edges_probs_norm>1e-6)[0])\n",
    "        greater_zero_edges /= node_num\n",
    "        \n",
    "        write_tsplib_prob(tsplib_name, edge_prob = edges_probs_norm,\n",
    "                  num_node=node_num, mean=mean_rank, fnn = num_fne, greater_zero=greater_zero_edges)\n",
    "    else:\n",
    "        write_tsplib_prob(tsplib_name, edge_prob = edges_probs_norm,\n",
    "                          num_node=node_num, mean=0, fnn = 0, greater_zero=0)\n",
    "    return mean_rank\n",
    "net.eval()"
   ]
  },
  {
   "cell_type": "code",
   "execution_count": 40,
   "metadata": {},
   "outputs": [],
   "source": [
    "num_nodes = 20\n",
    "line = \"0.029157934210713665 0.1559301825892634 0.03435471062405426 0.7682971106073093 0.3697166746406534 0.5018496299184007 0.5773199862704034 0.17172052933909687 0.6784428933051259 0.6975873582228431 0.4431051403147942 0.7493119574690765 0.49048884441003426 0.045469091760450664 0.2133731527472742 0.252152704752452 0.5318604857631822 0.5209111757162382 0.7537092753509504 0.3978239530415303 0.47850191065669456 0.17205353946229118 0.3924481462412055 0.7350983993831633 0.6946311107051806 0.15934358561054696 0.3872115247972211 0.7711203871028484 0.5645252549207432 0.5377147033696458 0.026977874388971146 0.7541423744086744 0.07421254499896157 0.6490227171133383 0.4358126035976637 0.5393203190426608 0.35101053789891434 0.07192098491162946 0.7752470640361943 0.10874604545820277 output 1 8 19 7 11 4 13 20 10 5 15 9 18 3 6 12 14 2 16 17 1\"\n",
    "tsp_source = line\n",
    "buff_coor = np.zeros(shape=(num_nodes, 2), dtype = np.float64)\n",
    "\n",
    "coor, opt = tsp_instance_reader(tspinstance=tsp_source,\n",
    "                       buff = buff_coor, num_node=num_nodes)\n",
    "\n",
    "\n"
   ]
  },
  {
   "cell_type": "code",
   "execution_count": 42,
   "metadata": {},
   "outputs": [
    {
     "name": "stdout",
     "output_type": "stream",
     "text": [
      "(20, 2)\n"
     ]
    }
   ],
   "source": [
    "print(coor.shape)"
   ]
  }
 ],
 "metadata": {
  "kernelspec": {
   "display_name": "py39",
   "language": "python",
   "name": "python3"
  },
  "language_info": {
   "codemirror_mode": {
    "name": "ipython",
    "version": 3
   },
   "file_extension": ".py",
   "mimetype": "text/x-python",
   "name": "python",
   "nbconvert_exporter": "python",
   "pygments_lexer": "ipython3",
   "version": "3.9.12"
  },
  "orig_nbformat": 4,
  "vscode": {
   "interpreter": {
    "hash": "ccc48cba39b1f4459234e21666e4737e80c10c62074b954fdcbe9cae915e458d"
   }
  }
 },
 "nbformat": 4,
 "nbformat_minor": 2
}
