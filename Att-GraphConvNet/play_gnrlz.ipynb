{
 "cells": [
  {
   "cell_type": "code",
   "execution_count": 1,
   "metadata": {},
   "outputs": [],
   "source": [
    "import os\n",
    "import re\n",
    "import pandas as pd\n",
    "import matplotlib.pyplot as plt\n",
    "\n",
    "import torch.nn.functional as F\n",
    "import torch.nn as nn\n",
    "import torch\n",
    "\n",
    "from scipy.spatial.distance import pdist\n",
    "from scipy.spatial.distance import squareform\n",
    "\n",
    "from config import Settings, get_config, get_default_config\n",
    "from models.gcn_model import *\n",
    "\n",
    "from data.data_generator import tsp_instance_reader\n",
    "\n",
    "from utils.tsplib import read_tsplib_coor, read_tsplib_opt, write_tsplib_prob\n",
    "from utils.tsplib2 import ReaderTSP, PlotterTSP\n",
    "\n",
    "from utils.tsplib2_graph import GraphBuilder"
   ]
  },
  {
   "cell_type": "code",
   "execution_count": 2,
   "metadata": {},
   "outputs": [],
   "source": [
    "#path_tsplib = r'../../ML-Constructive/version1/data/test/TSPLIB/'\n",
    "path_tsplib = r'./data/TSPLib/instances'\n",
    "path_tsplib_opt = r'./data/TSPLib/optimal'\n",
    "files = [f for f in os.listdir(path=path_tsplib) if f.endswith('.tsp')]\n",
    "\n",
    "problem_set = []\n",
    "for item in files:\n",
    "    problem = {'name': item, 'size': int(re.findall('[0-9]+', item)[0])}\n",
    "    problem_set.append(problem)\n",
    "\n",
    "#order problem set by size, ranging from 100 to 1748\n",
    "problem_set.sort(key=lambda x: x['size'], reverse=False)\n",
    "\n",
    "df_ps = pd.DataFrame.from_dict(problem_set)"
   ]
  },
  {
   "attachments": {},
   "cell_type": "markdown",
   "metadata": {},
   "source": [
    "### Read a TSP instance"
   ]
  },
  {
   "cell_type": "code",
   "execution_count": 3,
   "metadata": {},
   "outputs": [],
   "source": [
    "tsp_inst_name = 'rd100.tsp'\n",
    "full_tsp_inst = os.path.join(path_tsplib, tsp_inst_name)\n",
    "\n",
    "tspReader = ReaderTSP()\n",
    "n_points, node_coord, distance_matrix, name, optimal_tour = tspReader.read_instance(full_tsp_inst)\n"
   ]
  },
  {
   "attachments": {},
   "cell_type": "markdown",
   "metadata": {},
   "source": [
    "### Rescale instance"
   ]
  },
  {
   "cell_type": "code",
   "execution_count": 57,
   "metadata": {},
   "outputs": [],
   "source": [
    "x_y_min = np.min(node_coord, axis=0)\n",
    "scale = 1.0 / np.max(np.max(node_coord, axis=0)-x_y_min)\n",
    "node_coord = node_coord - x_y_min\n",
    "node_coord *= scale\n",
    "distance_matrix *= scale"
   ]
  },
  {
   "cell_type": "code",
   "execution_count": 4,
   "metadata": {},
   "outputs": [],
   "source": [
    "\n",
    "plotter = PlotterTSP(None)\n",
    "G = GraphBuilder(pos=node_coord, dist_matrix=distance_matrix)"
   ]
  },
  {
   "cell_type": "code",
   "execution_count": 5,
   "metadata": {},
   "outputs": [
    {
     "data": {
      "image/png": "[encoded data removed]",
      "text/plain": [
       "<Figure size 720x720 with 1 Axes>"
      ]
     },
     "metadata": {
      "needs_background": "light"
     },
     "output_type": "display_data"
    }
   ],
   "source": [
    "plt.figure(figsize=(10,10))\n",
    "plotter.plot_points(node_coord)\n",
    "plt.show()"
   ]
  },
  {
   "cell_type": "code",
   "execution_count": 8,
   "metadata": {},
   "outputs": [],
   "source": [
    "K = 19; K_expand = K\n",
    "\n",
    "tsp_source = (node_coord, optimal_tour)\n",
    "edges, edges_values, nodes, coord_nodes, edges_target, nodes_target, meshs, omega, opt = \\\n",
    "    test_one_tsp(tsp_source=tsp_source, \\\n",
    "    coor_buff=node_coord, node_num=n_points,  cluster_center=0, top_k=K, top_k_expand=K_expand)"
   ]
  },
  {
   "cell_type": "code",
   "execution_count": 109,
   "metadata": {},
   "outputs": [
    {
     "name": "stdout",
     "output_type": "stream",
     "text": [
      "[[ 0 14 62 61 86 59 17 70  7 85 68 96 66 67 50 89 82 12 20 48]\n",
      " [ 0 14 62 61 86 59 17 70  7 85 68 96 66 67 50 89 82 12 20 48]\n",
      " [ 0 14 62 61 86 59 17 70  7 85 68 96 66 67 50 89 82 12 20 48]\n",
      " [ 0 14 62 61 86 59 17 70  7 85 68 96 66 67 50 89 82 12 20 48]\n",
      " [ 0 14 62 61 86 59 17 70  7 85 68 96 66 67 50 89 82 12 20 48]\n",
      " [ 0 14 62 61 86 59 17 70  7 85 68 96 66 67 50 89 82 12 20 48]\n",
      " [ 0 14 62 61 86 59 17 70  7 85 68 96 66 67 50 89 82 12 20 48]\n",
      " [ 0 14 62 61 86 59 17 70  7 85 68 96 66 67 50 89 82 12 20 48]\n",
      " [ 0 14 62 61 86 59 17 70  7 85 68 96 66 67 50 89 82 12 20 48]\n",
      " [ 0 14 62 61 86 59 17 70  7 85 68 96 66 67 50 89 82 12 20 48]\n",
      " [ 0 14 62 61 86 59 17 70  7 85 68 96 66 67 50 89 82 12 20 48]\n",
      " [ 0 14 62 61 86 59 17 70  7 85 68 96 66 67 50 89 82 12 20 48]\n",
      " [ 0 14 62 61 86 59 17 70  7 85 68 96 66 67 50 89 82 12 20 48]\n",
      " [ 0 14 62 61 86 59 17 70  7 85 68 96 66 67 50 89 82 12 20 48]\n",
      " [ 0 14 62 61 86 59 17 70  7 85 68 96 66 67 50 89 82 12 20 48]\n",
      " [ 0 14 62 61 86 59 17 70  7 85 68 96 66 67 50 89 82 12 20 48]\n",
      " [ 0 14 62 61 86 59 17 70  7 85 68 96 66 67 50 89 82 12 20 48]\n",
      " [ 0 14 62 61 86 59 17 70  7 85 68 96 66 67 50 89 82 12 20 48]\n",
      " [ 0 14 62 61 86 59 17 70  7 85 68 96 66 67 50 89 82 12 20 48]\n",
      " [ 0 14 62 61 86 59 17 70  7 85 68 96 66 67 50 89 82 12 20 48]]\n"
     ]
    }
   ],
   "source": [
    "#print(len(edge), len(edges_value), len(nodes) )\n",
    "print(meshs[0][0])\n",
    "#print(omega.size)\n",
    "#print(len(meshs[0]), meshs[0][0])\n"
   ]
  },
  {
   "cell_type": "code",
   "execution_count": 88,
   "metadata": {},
   "outputs": [
    {
     "data": {
      "text/plain": [
       "array([[0.        , 1.15654562, 0.42951071, ..., 0.78144317, 0.55423403,\n",
       "        0.83609544],\n",
       "       [1.15654562, 0.        , 0.82310997, ..., 0.42302768, 0.65569914,\n",
       "        0.42256899],\n",
       "       [0.42951071, 0.82310997, 0.        , ..., 0.40523921, 0.16745104,\n",
       "        0.63390721],\n",
       "       ...,\n",
       "       [0.78144317, 0.42302768, 0.40523921, ..., 0.        , 0.24031928,\n",
       "        0.39368436],\n",
       "       [0.55423403, 0.65569914, 0.16745104, ..., 0.24031928, 0.        ,\n",
       "        0.49453428],\n",
       "       [0.83609544, 0.42256899, 0.63390721, ..., 0.39368436, 0.49453428,\n",
       "        0.        ]])"
      ]
     },
     "execution_count": 88,
     "metadata": {},
     "output_type": "execute_result"
    }
   ],
   "source": [
    "np.meshgrid\n",
    "#squareform(pdist(node_coord, 'euclidean'))\n",
    "#np.eye(2,2)"
   ]
  },
  {
   "cell_type": "code",
   "execution_count": 12,
   "metadata": {},
   "outputs": [
    {
     "data": {
      "text/plain": [
       "<utils.tsplib2_graph.GraphBuilder at 0x18fbf5460>"
      ]
     },
     "execution_count": 12,
     "metadata": {},
     "output_type": "execute_result"
    }
   ],
   "source": [
    "#df_ps\n",
    "G"
   ]
  },
  {
   "attachments": {},
   "cell_type": "markdown",
   "metadata": {},
   "source": [
    "### 1. Loading trained Att-GCN based on TSP20-trainset"
   ]
  },
  {
   "cell_type": "code",
   "execution_count": 30,
   "metadata": {},
   "outputs": [],
   "source": [
    "# model-parameter\n",
    "config_path = \"configs/tsp20.json\"\n",
    "config = get_config(config_path)\n",
    "\n",
    "# setting random seed to 1\n",
    "if torch.cuda.is_available():\n",
    "    dtypeFloat = torch.cuda.FloatTensor\n",
    "    dtypeLong = torch.cuda.LongTensor\n",
    "    torch.cuda.manual_seed_all(1)\n",
    "else:\n",
    "    dtypeFloat = torch.FloatTensor\n",
    "    dtypeLong = torch.LongTensor\n",
    "    torch.manual_seed(1)"
   ]
  },
  {
   "cell_type": "code",
   "execution_count": 31,
   "metadata": {},
   "outputs": [],
   "source": [
    "# Instantiate the network\n",
    "net = nn.DataParallel(ResidualGatedGCNModel(config, dtypeFloat, dtypeLong))\n",
    "if torch.cuda.is_available():\n",
    "    net.cuda()  \n",
    "# Define optimizer\n",
    "learning_rate = config.learning_rate\n",
    "optimizer = torch.optim.Adam(net.parameters(), lr=learning_rate)\n",
    "# Load checkpoint\n",
    "log_dir = f\"./logs/{config.expt_name}/\"\n",
    "if torch.cuda.is_available():\n",
    "    # TSP-20\n",
    "    checkpoint = torch.load(\"logs/tsp20/best_val_checkpoint.tar\")\n",
    "else:\n",
    "    checkpoint = torch.load(\"logs/tsp20/best_val_checkpoint.tar\", map_location='cpu')\n",
    "# Load network state\n",
    "net.load_state_dict(checkpoint['model_state_dict'])\n",
    "# Load optimizer state\n",
    "optimizer.load_state_dict(checkpoint['optimizer_state_dict'])\n",
    "# Load other training parameters\n",
    "epoch = checkpoint['epoch']\n",
    "train_loss = checkpoint['train_loss']\n",
    "val_loss = checkpoint['val_loss']\n",
    "for param_group in optimizer.param_groups:\n",
    "    learning_rate = param_group['lr']"
   ]
  },
  {
   "attachments": {},
   "cell_type": "markdown",
   "metadata": {},
   "source": [
    "### 2. Graph Sampling"
   ]
  },
  {
   "cell_type": "code",
   "execution_count": 7,
   "metadata": {},
   "outputs": [],
   "source": [
    "#Replace tsp_source for (coor, opt)\n",
    "def test_one_tsp(tsp_source, coor_buff, node_num=20, \n",
    "                    cluster_center = 0, top_k = 19, top_k_expand = 19):\n",
    "\n",
    "    coor, opt = tsp_source\n",
    "        #tsp_instance_reader(tspinstance=tsp_source, buff = coor_buff, num_node=node_num)\n",
    "    coors = [coor]\n",
    "    \n",
    "    distA = pdist(coors[0], metric='euclidean')\n",
    "    distB_raw = squareform(distA)\n",
    "    distB = squareform(distA) + 10.0 * np.eye(N = node_num, M =node_num, dtype = np.float64)\n",
    "    \n",
    "    pre_edges = np.ones(shape = (top_k + 1, top_k + 1), dtype = np.int32) + np.eye(N = top_k + 1, M = top_k + 1)\n",
    "    pre_node = np.ones(shape = (top_k + 1, ))\n",
    "    \n",
    "    pre_node_target = np.arange(0, top_k + 1)\n",
    "    pre_node_target = np.append(pre_node_target, 0)\n",
    "    pre_edge_target = np.zeros(shape = (top_k + 1, top_k + 1)) \n",
    "    pre_edge_target[pre_node_target[:-1], pre_node_target[1:]] = 1\n",
    "    pre_edge_target[pre_node_target[1:], pre_node_target[:-1]] = 1\n",
    "\n",
    "    neighbor = np.argpartition(distB, kth = top_k, axis=1)\n",
    "    \n",
    "    neighbor_expand = np.argpartition(distB, kth = top_k_expand, axis=1)\n",
    "    Omega_w = np.zeros(shape=(node_num, ), dtype = np.int32)\n",
    "    Omega = np.zeros(shape=(node_num, node_num), dtype = np.int32)\n",
    "    \n",
    "    edges, edges_values = [], []\n",
    "    nodes, nodes_coord = [], []\n",
    "    edges_target, nodes_target = [], []\n",
    "    meshs = []\n",
    "    num_clusters = 0\n",
    "    if node_num==20:\n",
    "        num_clusters_threshold = 1\n",
    "    else:\n",
    "        num_clusters_threshold = math.ceil((node_num / (top_k+1) ) * 5)\n",
    "    all_visited = False\n",
    "    \n",
    "    while num_clusters < num_clusters_threshold or all_visited == False:\n",
    "        if all_visited==False:\n",
    "            \n",
    "            cluster_center_neighbor = neighbor[cluster_center, :top_k]\n",
    "            cluster_center_neighbor = np.insert(cluster_center_neighbor,\n",
    "                                                0, cluster_center)\n",
    "        else:\n",
    "            np.random.shuffle(neighbor_expand[cluster_center, :top_k_expand])\n",
    "            cluster_center_neighbor = neighbor_expand[cluster_center, :top_k]\n",
    "            cluster_center_neighbor = np.insert(cluster_center_neighbor,\n",
    "                                                0, cluster_center)\n",
    "        \n",
    "        Omega_w[cluster_center_neighbor] += 1\n",
    "\n",
    "        # case 4\n",
    "        node_coord = coors[0][cluster_center_neighbor]\n",
    "        x_y_min = np.min(node_coord, axis=0)\n",
    "        scale = 1.0 / np.max(np.max(node_coord, axis=0)-x_y_min)\n",
    "        node_coord = node_coord - x_y_min\n",
    "        node_coord *= scale\n",
    "        nodes_coord.append(node_coord)\n",
    "\n",
    "        # case 1-2\n",
    "        edges.append(pre_edges)\n",
    "        mesh = np.meshgrid(cluster_center_neighbor, cluster_center_neighbor)\n",
    "        \n",
    "        edges_value = distB_raw[mesh].copy()\n",
    "        edges_value *= scale\n",
    "        edges_values.append(edges_value)\n",
    "        meshs.append(mesh)\n",
    "        Omega[mesh] += 1\n",
    "\n",
    "        # case 3\n",
    "        nodes.append(pre_node)\n",
    "\n",
    "        # case 5-6\n",
    "        edges_target.append(pre_edge_target)\n",
    "        nodes_target.append(pre_node_target[:-1])\n",
    "\n",
    "        num_clusters += 1\n",
    "        \n",
    "        if 0 not in Omega_w:\n",
    "            all_visited = True\n",
    "        \n",
    "        cluster_center = np.random.choice(np.where(Omega_w==np.min(Omega_w))[0])\n",
    "    \n",
    "    return edges, edges_values, nodes, nodes_coord, edges_target, nodes_target, meshs, Omega, opt"
   ]
  },
  {
   "cell_type": "code",
   "execution_count": null,
   "metadata": {},
   "outputs": [],
   "source": [
    "def multiprocess_write(sub_prob, meshgrid, omega, node_num = 20,\n",
    "                       tsplib_name = './sample.txt', statiscs = False, opt = None):\n",
    "    edges_probs = np.zeros(shape = (node_num, node_num), dtype = np.float32)\n",
    "    for i in range(len(meshgrid)):\n",
    "        edges_probs[list(meshgrid[i])] += sub_prob[i, :, :, 1]\n",
    "    edges_probs = edges_probs / (omega + 1e-8)#[:, None]\n",
    "    # normalize the probability in an instance \n",
    "    edges_probs = edges_probs + edges_probs.T\n",
    "    edges_probs_norm = edges_probs/np.reshape(np.sum(edges_probs, axis=1),\n",
    "                                              newshape=(node_num, 1))\n",
    "    \n",
    "    if statiscs:\n",
    "        mean_rank = 0\n",
    "        for i in range(node_num-1):\n",
    "            mean_rank += len(np.where(edges_probs_norm[opt[i], :]>=edges_probs_norm[opt[i], opt[i+1]])[0]) \n",
    "        mean_rank /= (node_num-1)\n",
    "        \n",
    "        false_negative_edge = opt[np.where(edges_probs_norm[opt[:-1], opt[1:]]<1e-5)]\n",
    "        # false negative edges in an instance\n",
    "        num_fne = len(false_negative_edge)\n",
    "        \n",
    "        greater_zero_edges = len(np.where(edges_probs_norm>1e-6)[0])\n",
    "        greater_zero_edges /= node_num\n",
    "        \n",
    "        write_tsplib_prob(tsplib_name, edge_prob = edges_probs_norm,\n",
    "                  num_node=node_num, mean=mean_rank, fnn = num_fne, greater_zero=greater_zero_edges)\n",
    "    else:\n",
    "        write_tsplib_prob(tsplib_name, edge_prob = edges_probs_norm,\n",
    "                          num_node=node_num, mean=0, fnn = 0, greater_zero=0)\n",
    "    return mean_rank\n",
    "net.eval()"
   ]
  },
  {
   "cell_type": "code",
   "execution_count": 40,
   "metadata": {},
   "outputs": [],
   "source": [
    "num_nodes = 20\n",
    "line = \"0.029157934210713665 0.1559301825892634 0.03435471062405426 0.7682971106073093 0.3697166746406534 0.5018496299184007 0.5773199862704034 0.17172052933909687 0.6784428933051259 0.6975873582228431 0.4431051403147942 0.7493119574690765 0.49048884441003426 0.045469091760450664 0.2133731527472742 0.252152704752452 0.5318604857631822 0.5209111757162382 0.7537092753509504 0.3978239530415303 0.47850191065669456 0.17205353946229118 0.3924481462412055 0.7350983993831633 0.6946311107051806 0.15934358561054696 0.3872115247972211 0.7711203871028484 0.5645252549207432 0.5377147033696458 0.026977874388971146 0.7541423744086744 0.07421254499896157 0.6490227171133383 0.4358126035976637 0.5393203190426608 0.35101053789891434 0.07192098491162946 0.7752470640361943 0.10874604545820277 output 1 8 19 7 11 4 13 20 10 5 15 9 18 3 6 12 14 2 16 17 1\"\n",
    "tsp_source = line\n",
    "buff_coor = np.zeros(shape=(num_nodes, 2), dtype = np.float64)\n",
    "\n",
    "coor, opt = tsp_instance_reader(tspinstance=tsp_source,\n",
    "                       buff = buff_coor, num_node=num_nodes)\n",
    "\n",
    "\n"
   ]
  },
  {
   "cell_type": "code",
   "execution_count": 42,
   "metadata": {},
   "outputs": [
    {
     "name": "stdout",
     "output_type": "stream",
     "text": [
      "(20, 2)\n"
     ]
    }
   ],
   "source": [
    "print(coor.shape)"
   ]
  }
 ],
 "metadata": {
  "kernelspec": {
   "display_name": "py39",
   "language": "python",
   "name": "python3"
  },
  "language_info": {
   "codemirror_mode": {
    "name": "ipython",
    "version": 3
   },
   "file_extension": ".py",
   "mimetype": "text/x-python",
   "name": "python",
   "nbconvert_exporter": "python",
   "pygments_lexer": "ipython3",
   "version": "3.9.12"
  },
  "orig_nbformat": 4,
  "vscode": {
   "interpreter": {
    "hash": "ccc48cba39b1f4459234e21666e4737e80c10c62074b954fdcbe9cae915e458d"
   }
  }
 },
 "nbformat": 4,
 "nbformat_minor": 2
}
